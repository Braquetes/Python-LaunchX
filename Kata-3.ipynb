{
 "cells": [
  {
   "cell_type": "markdown",
   "metadata": {},
   "source": [
    "# Kata 3"
   ]
  },
  {
   "cell_type": "code",
   "execution_count": 5,
   "metadata": {},
   "outputs": [
    {
     "name": "stdout",
     "output_type": "stream",
     "text": [
      "¡Cuidado!\n",
      "¡Un asteroide!\n",
      "¡Correeeeeeeeee!\n"
     ]
    }
   ],
   "source": [
    "asteroide = 49\n",
    "if asteroide > 25:\n",
    "    print ('¡Cuidado!')\n",
    "    print ('¡Un asteroide!')\n",
    "    print ('¡Correeeeeeeeee!')\n",
    "else:\n",
    "    print('¡Puedes vivir tranquilo!')"
   ]
  },
  {
   "cell_type": "code",
   "execution_count": 4,
   "metadata": {},
   "outputs": [
    {
     "name": "stdout",
     "output_type": "stream",
     "text": [
      "¡Puedes vivir tranquilo!\n"
     ]
    }
   ],
   "source": [
    "asteroide = 9\n",
    "if asteroide > 25:\n",
    "    print ('¡Cuidado!')\n",
    "    print ('¡Un asteroide!')\n",
    "    print ('¡Correeeeeeeeee!')\n",
    "else:\n",
    "    print('¡Puedes vivir tranquilo!')"
   ]
  },
  {
   "cell_type": "code",
   "execution_count": 7,
   "metadata": {},
   "outputs": [
    {
     "name": "stdout",
     "output_type": "stream",
     "text": [
      "¡Miren arriba!\n",
      "¡Un asteroide!\n"
     ]
    }
   ],
   "source": [
    "asteroide = 29\n",
    "if asteroide > 20:\n",
    "    print ('¡Miren arriba!') \n",
    "    print ('¡Un asteroide!')\n",
    "elif asteroide == 20:\n",
    "    print ('¡Miren arriba!') \n",
    "    print ('¡Un asteroide!')\n",
    "else:\n",
    "    print('¡Todo vacío!')"
   ]
  },
  {
   "cell_type": "code",
   "execution_count": 6,
   "metadata": {},
   "outputs": [
    {
     "name": "stdout",
     "output_type": "stream",
     "text": [
      "¡Todo vacío!\n"
     ]
    }
   ],
   "source": [
    "asteroide = 19\n",
    "if asteroide > 20:\n",
    "    print ('¡Miren arriba!') \n",
    "    print ('¡Un asteroide!')\n",
    "elif asteroide == 20:\n",
    "    print ('¡Miren arriba!') \n",
    "    print ('¡Un asteroide!')\n",
    "else:\n",
    "    print('¡Todo vacío!')"
   ]
  },
  {
   "cell_type": "code",
   "execution_count": 13,
   "metadata": {},
   "outputs": [
    {
     "name": "stdout",
     "output_type": "stream",
     "text": [
      "¡Todo esta muy apagado!\n"
     ]
    }
   ],
   "source": [
    "velocidad_asteroide = 0\n",
    "size_asteroide = 0\n",
    "if velocidad_asteroide > 25 and size_asteroide > 25:\n",
    "    print('¡Un asteroide se acerca!')\n",
    "    print('¡Corran!')\n",
    "elif velocidad_asteroide >= 20:\n",
    "    print('¡Miren esa luz extraña!')\n",
    "elif size_asteroide < 25:\n",
    "    print('¡Todo esta muy apagado!')\n",
    "else:\n",
    "    print('¡Todo esta muy apagado!')"
   ]
  },
  {
   "cell_type": "code",
   "execution_count": 14,
   "metadata": {},
   "outputs": [
    {
     "name": "stdout",
     "output_type": "stream",
     "text": [
      "¡Un asteroide se acerca!\n",
      "¡Corran!\n"
     ]
    }
   ],
   "source": [
    "velocidad_asteroide = 30\n",
    "size_asteroide = 30\n",
    "if velocidad_asteroide > 25 and size_asteroide > 25:\n",
    "    print('¡Un asteroide se acerca!')\n",
    "    print('¡Corran!')\n",
    "elif velocidad_asteroide >= 20:\n",
    "    print('¡Miren esa luz extraña!')\n",
    "elif size_asteroide < 25:\n",
    "    print('¡Todo esta muy apagado!')\n",
    "else:\n",
    "    print('¡Todo esta muy apagado!')"
   ]
  }
 ],
 "metadata": {
  "interpreter": {
   "hash": "2be5faf79681da6f2a61fdfdd5405d65d042280f7fba6178067603e3a2925119"
  },
  "kernelspec": {
   "display_name": "Python 3.10.2 64-bit",
   "language": "python",
   "name": "python3"
  },
  "language_info": {
   "codemirror_mode": {
    "name": "ipython",
    "version": 3
   },
   "file_extension": ".py",
   "mimetype": "text/x-python",
   "name": "python",
   "nbconvert_exporter": "python",
   "pygments_lexer": "ipython3",
   "version": "3.10.2"
  },
  "orig_nbformat": 4
 },
 "nbformat": 4,
 "nbformat_minor": 2
}
