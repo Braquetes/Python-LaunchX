{
 "cells": [
  {
   "cell_type": "markdown",
   "metadata": {},
   "source": [
    "# Kata 5"
   ]
  },
  {
   "cell_type": "code",
   "execution_count": 21,
   "metadata": {},
   "outputs": [
    {
     "name": "stdout",
     "output_type": "stream",
     "text": [
      "Distancia entre la Tierra y Júpiter es de: 628949330\n"
     ]
    }
   ],
   "source": [
    "tierra = 149597870\n",
    "jupiter = 778547200\n",
    "print(f\"\"\"Distancia entre la Tierra y Júpiter es de: {jupiter-tierra}\"\"\")"
   ]
  },
  {
   "cell_type": "code",
   "execution_count": 22,
   "metadata": {},
   "outputs": [
    {
     "name": "stdout",
     "output_type": "stream",
     "text": [
      "Distancia entre la Tierra y Júpiter en millas es: 390577533.93\n"
     ]
    }
   ],
   "source": [
    "print(f\"\"\"Distancia entre la Tierra y Júpiter en millas es: {(jupiter-tierra)*0.621}\"\"\")"
   ]
  },
  {
   "cell_type": "code",
   "execution_count": 27,
   "metadata": {},
   "outputs": [
    {
     "name": "stdout",
     "output_type": "stream",
     "text": [
      "628949330\n",
      "390577533.93\n"
     ]
    }
   ],
   "source": [
    "distancia = jupiter-tierra\n",
    "distancia_millas = distancia * 0.621\n",
    "print(distancia)\n",
    "print(distancia_millas)"
   ]
  },
  {
   "cell_type": "code",
   "execution_count": 38,
   "metadata": {},
   "outputs": [
    {
     "name": "stdout",
     "output_type": "stream",
     "text": [
      "1845\n",
      "1561684135\n"
     ]
    }
   ],
   "source": [
    "planeta_1 = input('Ingresa la distancia del primer planeta con respecto al sol: ')\n",
    "planeta_2 = input('Ingresa la distancia del segundo planeta con respecto al sol: ')\n",
    "print(planeta_1)\n",
    "print(planeta_2)"
   ]
  },
  {
   "cell_type": "code",
   "execution_count": 39,
   "metadata": {},
   "outputs": [
    {
     "name": "stdout",
     "output_type": "stream",
     "text": [
      "969804702.09\n"
     ]
    }
   ],
   "source": [
    "planeta_1_entero = int(planeta_1)\n",
    "planeta_2_entero = int(planeta_2)\n",
    "\n",
    "distancia = planeta_2_entero-planeta_1_entero\n",
    "distancia_millas = distancia * 0.621\n",
    "print(abs(distancia_millas))"
   ]
  }
 ],
 "metadata": {
  "interpreter": {
   "hash": "a45cff3b72af0d5271c18c55de591007ad1c45c8fbead1caef69e4efdd247152"
  },
  "kernelspec": {
   "display_name": "Python 3.10.2 ('env': venv)",
   "language": "python",
   "name": "python3"
  },
  "language_info": {
   "codemirror_mode": {
    "name": "ipython",
    "version": 3
   },
   "file_extension": ".py",
   "mimetype": "text/x-python",
   "name": "python",
   "nbconvert_exporter": "python",
   "pygments_lexer": "ipython3",
   "version": "3.10.2"
  },
  "orig_nbformat": 4
 },
 "nbformat": 4,
 "nbformat_minor": 2
}
